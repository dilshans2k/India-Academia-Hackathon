{
  "nbformat": 4,
  "nbformat_minor": 0,
  "metadata": {
    "colab": {
      "name": "Hindi_Character_Classification.ipynb",
      "provenance": []
    },
    "kernelspec": {
      "display_name": "Python 3",
      "name": "python3"
    },
    "language_info": {
      "name": "python"
    },
    "accelerator": "GPU"
  },
  "cells": [
    {
      "cell_type": "code",
      "metadata": {
        "id": "qtpf1sFdcF5n"
      },
      "source": [
        "import os \n",
        "import zipfile \n",
        "import tensorflow as tf \n",
        "from tensorflow.keras.preprocessing.image import ImageDataGenerator \n",
        "from tensorflow.keras import layers \n",
        "from tensorflow.keras import Model \n",
        "import matplotlib.pyplot as plt\n",
        "import numpy as np"
      ],
      "execution_count": 2,
      "outputs": []
    },
    {
      "cell_type": "code",
      "metadata": {
        "id": "x_pLG7bmRRE0"
      },
      "source": [
        "!unzip \"/content/training.zip\""
      ],
      "execution_count": null,
      "outputs": []
    },
    {
      "cell_type": "code",
      "metadata": {
        "colab": {
          "base_uri": "https://localhost:8080/"
        },
        "id": "pOAk1JfFccrb",
        "outputId": "f23f5a99-0b8f-4831-987e-5530fe58547f"
      },
      "source": [
        "!unzip \"/content/test.zip\""
      ],
      "execution_count": 5,
      "outputs": [
        {
          "output_type": "stream",
          "name": "stdout",
          "text": [
            "Archive:  /content/test.zip\n",
            "   creating: test/\n",
            "  inflating: test/1.jpg              \n",
            "  inflating: test/10.jpg             \n",
            "  inflating: test/11.jpg             \n",
            "  inflating: test/12.jpg             \n",
            "  inflating: test/13.jpg             \n",
            "  inflating: test/14.jpg             \n",
            "  inflating: test/15.jpg             \n",
            "  inflating: test/16.jpg             \n",
            "  inflating: test/17.jpg             \n",
            "  inflating: test/18.jpg             \n",
            "  inflating: test/19.jpg             \n",
            "  inflating: test/2.jpg              \n",
            "  inflating: test/20.jpg             \n",
            "  inflating: test/21.jpg             \n",
            "  inflating: test/22.jpg             \n",
            "  inflating: test/23.jpg             \n",
            "  inflating: test/24.jpg             \n",
            "  inflating: test/25.jpg             \n",
            "  inflating: test/26.jpg             \n",
            "  inflating: test/27.jpg             \n",
            "  inflating: test/28.jpg             \n",
            "  inflating: test/29.jpg             \n",
            "  inflating: test/3.jpg              \n",
            "  inflating: test/30.jpg             \n",
            "  inflating: test/31.jpg             \n",
            "  inflating: test/32.jpg             \n",
            "  inflating: test/33.jpg             \n",
            "  inflating: test/34.jpg             \n",
            "  inflating: test/35.jpg             \n",
            "  inflating: test/36.jpg             \n",
            "  inflating: test/37.jpg             \n",
            "  inflating: test/38.jpg             \n",
            "  inflating: test/39.jpg             \n",
            "  inflating: test/4.jpg              \n",
            "  inflating: test/40.jpg             \n",
            "  inflating: test/41.jpg             \n",
            "  inflating: test/42.jpg             \n",
            "  inflating: test/43.jpg             \n",
            "  inflating: test/44.jpg             \n",
            "  inflating: test/45.jpg             \n",
            "  inflating: test/46.jpg             \n",
            "  inflating: test/47.jpg             \n",
            "  inflating: test/48.jpg             \n",
            "  inflating: test/49.jpg             \n",
            "  inflating: test/5.jpg              \n",
            "  inflating: test/50.jpg             \n",
            "  inflating: test/51.jpg             \n",
            "  inflating: test/52.jpg             \n",
            "  inflating: test/53.jpg             \n",
            "  inflating: test/54.jpg             \n",
            "  inflating: test/55.jpg             \n",
            "  inflating: test/56.jpg             \n",
            "  inflating: test/57.jpg             \n",
            "  inflating: test/58.jpg             \n",
            "  inflating: test/59.jpg             \n",
            "  inflating: test/6.jpg              \n",
            "  inflating: test/60.jpg             \n",
            "  inflating: test/61.jpg             \n",
            "  inflating: test/62.jpg             \n",
            "  inflating: test/63.jpg             \n",
            "  inflating: test/64.jpg             \n",
            "  inflating: test/65.jpg             \n",
            "  inflating: test/66.jpg             \n",
            "  inflating: test/67.jpg             \n",
            "  inflating: test/68.jpg             \n",
            "  inflating: test/69.jpg             \n",
            "  inflating: test/7.jpg              \n",
            "  inflating: test/70.jpg             \n",
            "  inflating: test/71.jpg             \n",
            "  inflating: test/72.jpg             \n",
            "  inflating: test/73.jpg             \n",
            "  inflating: test/74.jpg             \n",
            "  inflating: test/75.jpg             \n",
            "  inflating: test/76.jpg             \n",
            "  inflating: test/77.jpg             \n",
            "  inflating: test/78.jpg             \n",
            "  inflating: test/79.jpg             \n",
            "  inflating: test/8.jpg              \n",
            "  inflating: test/80.jpg             \n",
            "  inflating: test/81.jpg             \n",
            "  inflating: test/82.jpg             \n",
            "  inflating: test/83.jpg             \n",
            "  inflating: test/84.jpg             \n",
            "  inflating: test/85.jpg             \n",
            "  inflating: test/86.jpg             \n",
            "  inflating: test/87.jpg             \n",
            "  inflating: test/88.jpg             \n",
            "  inflating: test/89.jpg             \n",
            "  inflating: test/9.jpg              \n",
            "  inflating: test/90.jpg             \n",
            "  inflating: test/91.jpg             \n",
            "  inflating: test/92.jpg             \n",
            "  inflating: test/93.jpg             \n",
            "  inflating: test/94.jpg             \n",
            "  inflating: test/95.jpg             \n",
            "  inflating: test/96.jpg             \n",
            "  inflating: test/97.jpg             \n",
            "  inflating: test/98.jpg             \n"
          ]
        }
      ]
    },
    {
      "cell_type": "code",
      "metadata": {
        "id": "9tr6N8GUhADB"
      },
      "source": [
        "shutil.rmtree('/content/full_test') #deletes a directory and all its contents."
      ],
      "execution_count": null,
      "outputs": []
    },
    {
      "cell_type": "code",
      "metadata": {
        "id": "EP2I5OnUnvLc"
      },
      "source": [
        "path = \"/content/training/background\"\n",
        "\n",
        "target_train = \"/content/full_train\"\n",
        "target_test = \"/content/full_test\"\n",
        "\n",
        "os.mkdir(target_train)\n",
        "os.mkdir(target_test)\n",
        "\n",
        "target_train_neg = \"/content/full_train/neg\"\n",
        "target_test_neg = \"/content/full_test/neg\"\n",
        "\n",
        "os.mkdir(target_train_neg)\n",
        "os.mkdir(target_test_neg)\n"
      ],
      "execution_count": 6,
      "outputs": []
    },
    {
      "cell_type": "code",
      "metadata": {
        "id": "vEBEMqy1qXgQ"
      },
      "source": [
        "path2 = \"/content/training/hi\"\n",
        "\n",
        "target_train_pos = \"/content/full_train/pos\"\n",
        "target_test_pos = \"/content/full_test/pos\"\n",
        "\n",
        "os.mkdir(target_train_pos)\n",
        "os.mkdir(target_test_pos)"
      ],
      "execution_count": 7,
      "outputs": []
    },
    {
      "cell_type": "code",
      "metadata": {
        "id": "0eEqbDEjc-RH"
      },
      "source": [
        "import random\n",
        "image_names_1 = os.listdir(path)\n",
        "random.shuffle(image_names_1)\n",
        "image_names_2 = os.listdir(path2)\n",
        "random.shuffle(image_names_2)"
      ],
      "execution_count": 8,
      "outputs": []
    },
    {
      "cell_type": "code",
      "metadata": {
        "colab": {
          "base_uri": "https://localhost:8080/"
        },
        "id": "w_NsDnG8d6pu",
        "outputId": "f9533203-895b-420e-801e-fa92d0f5c893"
      },
      "source": [
        "p, dirs, files = next(os.walk(path))\n",
        "file_count_1 = len(files)\n",
        "print(file_count_1)\n",
        "p, dirs, files = next(os.walk(path2))\n",
        "file_count_2 = len(files)\n",
        "print(file_count_2)"
      ],
      "execution_count": 9,
      "outputs": [
        {
          "output_type": "stream",
          "name": "stdout",
          "text": [
            "4450\n",
            "1425\n"
          ]
        }
      ]
    },
    {
      "cell_type": "code",
      "metadata": {
        "colab": {
          "base_uri": "https://localhost:8080/"
        },
        "id": "FBLXOocvd6s0",
        "outputId": "2678054a-a653-467a-aa1c-1b364d6c2764"
      },
      "source": [
        "import math\n",
        "train = math.floor(file_count_1*0.8)\n",
        "test = file_count_1 - train\n",
        "print(train,test)"
      ],
      "execution_count": 10,
      "outputs": [
        {
          "output_type": "stream",
          "name": "stdout",
          "text": [
            "3560 890\n"
          ]
        }
      ]
    },
    {
      "cell_type": "code",
      "metadata": {
        "id": "-WMFTWQvd6w8",
        "colab": {
          "base_uri": "https://localhost:8080/"
        },
        "outputId": "b359bb06-fea4-428c-b78f-6446dfcea3b5"
      },
      "source": [
        "import shutil\n",
        "j=0\n",
        "for i in range(file_count_1):\n",
        "    \n",
        "    image_name = image_names_1[i]\n",
        "    image_path = os.path.join(path,image_name)\n",
        "    \n",
        "    if(i<train):\n",
        "        target_path = os.path.join(target_train_neg,image_name)\n",
        "    else:\n",
        "        j=j+1\n",
        "        target_path = os.path.join(target_test_neg,image_name)\n",
        "    \n",
        "    shutil.copy2(image_path,target_path)\n",
        "print(j)"
      ],
      "execution_count": 11,
      "outputs": [
        {
          "output_type": "stream",
          "name": "stdout",
          "text": [
            "890\n"
          ]
        }
      ]
    },
    {
      "cell_type": "code",
      "metadata": {
        "colab": {
          "base_uri": "https://localhost:8080/"
        },
        "id": "f2wd0MN-d60E",
        "outputId": "63182926-af5e-404d-e53c-eb979cae5a2b"
      },
      "source": [
        "train = math.floor(file_count_2*0.8)\n",
        "test = file_count_2 - train\n",
        "print(train,test)"
      ],
      "execution_count": 12,
      "outputs": [
        {
          "output_type": "stream",
          "name": "stdout",
          "text": [
            "1140 285\n"
          ]
        }
      ]
    },
    {
      "cell_type": "code",
      "metadata": {
        "id": "nXWCUl9dd63Y",
        "colab": {
          "base_uri": "https://localhost:8080/"
        },
        "outputId": "2117aa62-1072-47c3-9126-2fa09f6cf75f"
      },
      "source": [
        "j=0\n",
        "for i in range(file_count_2):\n",
        "    \n",
        "    image_name = image_names_2[i]\n",
        "    image_path = os.path.join(path2,image_name)\n",
        "    \n",
        "    if(i<train):\n",
        "        target_path = os.path.join(target_train_pos,image_name)\n",
        "    else:\n",
        "        j=j+1\n",
        "        target_path = os.path.join(target_test_pos,image_name)\n",
        "    \n",
        "    shutil.copy2(image_path,target_path)\n",
        "print(j)"
      ],
      "execution_count": 13,
      "outputs": [
        {
          "output_type": "stream",
          "name": "stdout",
          "text": [
            "285\n"
          ]
        }
      ]
    },
    {
      "cell_type": "code",
      "metadata": {
        "colab": {
          "base_uri": "https://localhost:8080/"
        },
        "id": "Gn4h-Tu6zdxr",
        "outputId": "feaabf3e-bb5f-41ae-f5e7-95b4f072f089"
      },
      "source": [
        "train_datagen = ImageDataGenerator(rescale = 1/255., width_shift_range = 0.1, height_shift_range = 0.1, shear_range = 0.1, zoom_range = 0.1, horizontal_flip = True)\n",
        "\n",
        "test_datagen = ImageDataGenerator(rescale = 1/255.)\n",
        "\n",
        "train_data = train_datagen.flow_from_directory(target_train, batch_size = 20, class_mode = 'binary', target_size = (224, 224))\n",
        "\n",
        "test_data = test_datagen.flow_from_directory(target_test, batch_size = 20, class_mode = 'binary', target_size = (224, 224))"
      ],
      "execution_count": 14,
      "outputs": [
        {
          "output_type": "stream",
          "name": "stdout",
          "text": [
            "Found 4700 images belonging to 2 classes.\n",
            "Found 1175 images belonging to 2 classes.\n"
          ]
        }
      ]
    },
    {
      "cell_type": "code",
      "metadata": {
        "id": "cth5Q3W_TeJH",
        "colab": {
          "base_uri": "https://localhost:8080/"
        },
        "outputId": "70663d61-d686-41de-c159-99e910ca8ba1"
      },
      "source": [
        "from tensorflow.keras.applications.resnet_v2 import ResNet50V2\n",
        "\n",
        "base_model = ResNet50V2(include_top=False)\n",
        "base_model.trainable = False"
      ],
      "execution_count": 15,
      "outputs": [
        {
          "output_type": "stream",
          "name": "stdout",
          "text": [
            "Downloading data from https://storage.googleapis.com/tensorflow/keras-applications/resnet/resnet50v2_weights_tf_dim_ordering_tf_kernels_notop.h5\n",
            "94674944/94668760 [==============================] - 1s 0us/step\n",
            "94683136/94668760 [==============================] - 1s 0us/step\n"
          ]
        }
      ]
    },
    {
      "cell_type": "code",
      "metadata": {
        "id": "RdBU3wsHT-Oh"
      },
      "source": [
        "input = tf.keras.Input(shape = (224,224,3))\n",
        "\n",
        "x = base_model(input, training=False)\n",
        "x = tf.keras.layers.GlobalAveragePooling2D()(x)\n",
        "output = tf.keras.layers.Dense(1, activation= 'sigmoid')(x)\n",
        "\n",
        "model_0 = tf.keras.Model(input, output)"
      ],
      "execution_count": 16,
      "outputs": []
    },
    {
      "cell_type": "code",
      "metadata": {
        "id": "DLARJxl6UAnR"
      },
      "source": [
        "model_0.compile(loss = 'binary_crossentropy',\n",
        "                optimizer = 'adam',\n",
        "                metrics = ['accuracy'])"
      ],
      "execution_count": 17,
      "outputs": []
    },
    {
      "cell_type": "code",
      "metadata": {
        "colab": {
          "base_uri": "https://localhost:8080/"
        },
        "id": "hYCJ1xJtUAco",
        "outputId": "f0d67971-d557-4756-e7aa-5508484d77f5"
      },
      "source": [
        "model_0.summary()"
      ],
      "execution_count": 18,
      "outputs": [
        {
          "output_type": "stream",
          "name": "stdout",
          "text": [
            "Model: \"model\"\n",
            "_________________________________________________________________\n",
            "Layer (type)                 Output Shape              Param #   \n",
            "=================================================================\n",
            "input_2 (InputLayer)         [(None, 224, 224, 3)]     0         \n",
            "_________________________________________________________________\n",
            "resnet50v2 (Functional)      (None, None, None, 2048)  23564800  \n",
            "_________________________________________________________________\n",
            "global_average_pooling2d (Gl (None, 2048)              0         \n",
            "_________________________________________________________________\n",
            "dense (Dense)                (None, 1)                 2049      \n",
            "=================================================================\n",
            "Total params: 23,566,849\n",
            "Trainable params: 2,049\n",
            "Non-trainable params: 23,564,800\n",
            "_________________________________________________________________\n"
          ]
        }
      ]
    },
    {
      "cell_type": "code",
      "metadata": {
        "colab": {
          "base_uri": "https://localhost:8080/"
        },
        "id": "6jzEtuIYUAZP",
        "outputId": "2ef362a7-28d3-4935-e4f0-3e7afc30f382"
      },
      "source": [
        "history_model_0 = model_0.fit(train_data,\n",
        "                              epochs = 10,\n",
        "                              steps_per_epoch = len(train_data),\n",
        "                              validation_data = test_data,\n",
        "                              validation_steps = 0.25*len(test_data),\n",
        "                              )"
      ],
      "execution_count": 19,
      "outputs": [
        {
          "output_type": "stream",
          "name": "stdout",
          "text": [
            "Epoch 1/10\n",
            "235/235 [==============================] - 101s 284ms/step - loss: 0.3128 - accuracy: 0.8732 - val_loss: 0.2006 - val_accuracy: 0.9233\n",
            "Epoch 2/10\n",
            "235/235 [==============================] - 66s 279ms/step - loss: 0.2132 - accuracy: 0.9132 - val_loss: 0.1924 - val_accuracy: 0.9433\n",
            "Epoch 3/10\n",
            "235/235 [==============================] - 65s 277ms/step - loss: 0.1856 - accuracy: 0.9223 - val_loss: 0.2109 - val_accuracy: 0.9200\n",
            "Epoch 4/10\n",
            "235/235 [==============================] - 66s 282ms/step - loss: 0.1687 - accuracy: 0.9374 - val_loss: 0.1794 - val_accuracy: 0.9300\n",
            "Epoch 5/10\n",
            "235/235 [==============================] - 68s 287ms/step - loss: 0.1625 - accuracy: 0.9370 - val_loss: 0.1933 - val_accuracy: 0.9233\n",
            "Epoch 6/10\n",
            "235/235 [==============================] - 67s 285ms/step - loss: 0.1512 - accuracy: 0.9402 - val_loss: 0.1749 - val_accuracy: 0.9233\n",
            "Epoch 7/10\n",
            "235/235 [==============================] - 67s 285ms/step - loss: 0.1498 - accuracy: 0.9447 - val_loss: 0.1458 - val_accuracy: 0.9567\n",
            "Epoch 8/10\n",
            "235/235 [==============================] - 67s 285ms/step - loss: 0.1371 - accuracy: 0.9468 - val_loss: 0.1778 - val_accuracy: 0.9333\n",
            "Epoch 9/10\n",
            "235/235 [==============================] - 68s 287ms/step - loss: 0.1388 - accuracy: 0.9472 - val_loss: 0.1685 - val_accuracy: 0.9333\n",
            "Epoch 10/10\n",
            "235/235 [==============================] - 67s 285ms/step - loss: 0.1307 - accuracy: 0.9489 - val_loss: 0.1864 - val_accuracy: 0.9233\n"
          ]
        }
      ]
    },
    {
      "cell_type": "code",
      "metadata": {
        "colab": {
          "base_uri": "https://localhost:8080/"
        },
        "id": "TYK_IEObX_EC",
        "outputId": "2c427271-a79a-4c4d-c2e5-3f39198ada99"
      },
      "source": [
        "model_0.evaluate(test_data)"
      ],
      "execution_count": 20,
      "outputs": [
        {
          "output_type": "stream",
          "name": "stdout",
          "text": [
            "59/59 [==============================] - 10s 161ms/step - loss: 0.1532 - accuracy: 0.9447\n"
          ]
        },
        {
          "output_type": "execute_result",
          "data": {
            "text/plain": [
              "[0.15315529704093933, 0.9446808695793152]"
            ]
          },
          "metadata": {},
          "execution_count": 20
        }
      ]
    },
    {
      "cell_type": "code",
      "metadata": {
        "id": "umYUbwBgBWVk"
      },
      "source": [
        "img = tf.io.read_file(\"/content/1.jpg\")\n",
        "img = tf.image.decode_image(img)\n",
        "img = tf.image.resize(img, size = [224,224])\n",
        "img = img/255."
      ],
      "execution_count": 21,
      "outputs": []
    },
    {
      "cell_type": "code",
      "metadata": {
        "id": "5BItj1fGCFOD"
      },
      "source": [
        "img"
      ],
      "execution_count": null,
      "outputs": []
    },
    {
      "cell_type": "code",
      "metadata": {
        "colab": {
          "base_uri": "https://localhost:8080/"
        },
        "id": "kPnmafPMKrKt",
        "outputId": "e1933c85-0a1d-4a52-b899-c6178b3230a8"
      },
      "source": [
        "list1=os.listdir(test_d)\n",
        "\n",
        "k=[]    \n",
        "for item in list1:    \n",
        "    head, sep, tail = item.partition('.')\n",
        "    k.append(int(head))\n",
        "\n",
        "k.sort()\n",
        "print(k)"
      ],
      "execution_count": 62,
      "outputs": [
        {
          "output_type": "stream",
          "name": "stdout",
          "text": [
            "[1, 2, 3, 4, 5, 6, 7, 8, 9, 10, 11, 12, 13, 14, 15, 16, 17, 18, 19, 20, 21, 22, 23, 24, 25, 26, 27, 28, 29, 30, 31, 32, 33, 34, 35, 36, 37, 38, 39, 40, 41, 42, 43, 44, 45, 46, 47, 48, 49, 50, 51, 52, 53, 54, 55, 56, 57, 58, 59, 60, 61, 62, 63, 64, 65, 66, 67, 68, 69, 70, 71, 72, 73, 74, 75, 76, 77, 78, 79, 80, 81, 82, 83, 84, 85, 86, 87, 88, 89, 90, 91, 92, 93, 94, 95, 96, 97, 98]\n"
          ]
        }
      ]
    },
    {
      "cell_type": "code",
      "metadata": {
        "id": "FSH7XhD7RA2K"
      },
      "source": [
        "test_d = \"/content/test\""
      ],
      "execution_count": null,
      "outputs": []
    },
    {
      "cell_type": "code",
      "metadata": {
        "id": "NNmdNipnJ1Pu"
      },
      "source": [
        "predictions = []\n",
        "for i in k:\n",
        "  img = tf.io.read_file(test_d + '/' + str(i) + '.jpg')\n",
        "  img = tf.image.decode_image(img)\n",
        "  img = tf.image.resize(img, size = [224,224])\n",
        "  img = img/255.\n",
        "  prediction = model_0.predict(tf.expand_dims(img, axis = 0))\n",
        "  predictions.append(prediction)"
      ],
      "execution_count": 67,
      "outputs": []
    },
    {
      "cell_type": "code",
      "metadata": {
        "colab": {
          "base_uri": "https://localhost:8080/"
        },
        "id": "fd0hIuZMKjF8",
        "outputId": "591e1b7d-e95a-4c64-8102-502c7d8b2137"
      },
      "source": [
        "predictions, len(predictions)"
      ],
      "execution_count": 68,
      "outputs": [
        {
          "output_type": "execute_result",
          "data": {
            "text/plain": [
              "([array([[0.9225697]], dtype=float32),\n",
              "  array([[0.01588476]], dtype=float32),\n",
              "  array([[0.9782574]], dtype=float32),\n",
              "  array([[0.02264301]], dtype=float32),\n",
              "  array([[0.9765667]], dtype=float32),\n",
              "  array([[0.00034441]], dtype=float32),\n",
              "  array([[0.909128]], dtype=float32),\n",
              "  array([[0.0150571]], dtype=float32),\n",
              "  array([[0.55588573]], dtype=float32),\n",
              "  array([[0.37531483]], dtype=float32),\n",
              "  array([[0.93622416]], dtype=float32),\n",
              "  array([[0.16365027]], dtype=float32),\n",
              "  array([[0.99999213]], dtype=float32),\n",
              "  array([[0.01656307]], dtype=float32),\n",
              "  array([[0.98950154]], dtype=float32),\n",
              "  array([[0.023779]], dtype=float32),\n",
              "  array([[0.11105779]], dtype=float32),\n",
              "  array([[0.03544933]], dtype=float32),\n",
              "  array([[0.71080947]], dtype=float32),\n",
              "  array([[0.76991427]], dtype=float32),\n",
              "  array([[0.9955663]], dtype=float32),\n",
              "  array([[0.99890757]], dtype=float32),\n",
              "  array([[0.9999949]], dtype=float32),\n",
              "  array([[0.9966883]], dtype=float32),\n",
              "  array([[0.92060184]], dtype=float32),\n",
              "  array([[0.997017]], dtype=float32),\n",
              "  array([[0.64455116]], dtype=float32),\n",
              "  array([[0.96235204]], dtype=float32),\n",
              "  array([[0.99999964]], dtype=float32),\n",
              "  array([[0.98182535]], dtype=float32),\n",
              "  array([[0.00561452]], dtype=float32),\n",
              "  array([[0.5006546]], dtype=float32),\n",
              "  array([[0.40739325]], dtype=float32),\n",
              "  array([[0.01315659]], dtype=float32),\n",
              "  array([[0.00013029]], dtype=float32),\n",
              "  array([[0.00155337]], dtype=float32),\n",
              "  array([[0.00134065]], dtype=float32),\n",
              "  array([[0.00267979]], dtype=float32),\n",
              "  array([[0.04872991]], dtype=float32),\n",
              "  array([[0.8878995]], dtype=float32),\n",
              "  array([[0.05490324]], dtype=float32),\n",
              "  array([[0.9983991]], dtype=float32),\n",
              "  array([[0.0076904]], dtype=float32),\n",
              "  array([[0.12892665]], dtype=float32),\n",
              "  array([[0.0096234]], dtype=float32),\n",
              "  array([[0.14255463]], dtype=float32),\n",
              "  array([[0.00338352]], dtype=float32),\n",
              "  array([[0.9837445]], dtype=float32),\n",
              "  array([[0.00442052]], dtype=float32),\n",
              "  array([[0.9975406]], dtype=float32),\n",
              "  array([[0.03502249]], dtype=float32),\n",
              "  array([[0.99999]], dtype=float32),\n",
              "  array([[0.64977974]], dtype=float32),\n",
              "  array([[0.9410809]], dtype=float32),\n",
              "  array([[0.95034945]], dtype=float32),\n",
              "  array([[0.0429342]], dtype=float32),\n",
              "  array([[0.00129044]], dtype=float32),\n",
              "  array([[0.00012449]], dtype=float32),\n",
              "  array([[0.0015363]], dtype=float32),\n",
              "  array([[0.01438454]], dtype=float32),\n",
              "  array([[0.99814403]], dtype=float32),\n",
              "  array([[0.23292318]], dtype=float32),\n",
              "  array([[0.99999475]], dtype=float32),\n",
              "  array([[0.09134378]], dtype=float32),\n",
              "  array([[0.00366469]], dtype=float32),\n",
              "  array([[0.00587733]], dtype=float32),\n",
              "  array([[0.99999]], dtype=float32),\n",
              "  array([[0.03917439]], dtype=float32),\n",
              "  array([[0.9999974]], dtype=float32),\n",
              "  array([[0.9997651]], dtype=float32),\n",
              "  array([[0.7847891]], dtype=float32),\n",
              "  array([[0.09504288]], dtype=float32),\n",
              "  array([[0.99992347]], dtype=float32),\n",
              "  array([[0.18208592]], dtype=float32),\n",
              "  array([[0.03529656]], dtype=float32),\n",
              "  array([[0.08579382]], dtype=float32),\n",
              "  array([[0.0126305]], dtype=float32),\n",
              "  array([[0.00911255]], dtype=float32),\n",
              "  array([[0.01795611]], dtype=float32),\n",
              "  array([[0.01022949]], dtype=float32),\n",
              "  array([[0.20327215]], dtype=float32),\n",
              "  array([[0.39440137]], dtype=float32),\n",
              "  array([[0.928209]], dtype=float32),\n",
              "  array([[0.99716717]], dtype=float32),\n",
              "  array([[0.00064678]], dtype=float32),\n",
              "  array([[0.01950147]], dtype=float32),\n",
              "  array([[0.04133492]], dtype=float32),\n",
              "  array([[0.01799026]], dtype=float32),\n",
              "  array([[0.6265624]], dtype=float32),\n",
              "  array([[0.5938774]], dtype=float32),\n",
              "  array([[0.09031341]], dtype=float32),\n",
              "  array([[0.9165394]], dtype=float32),\n",
              "  array([[0.6479876]], dtype=float32),\n",
              "  array([[0.9999999]], dtype=float32),\n",
              "  array([[0.19492543]], dtype=float32),\n",
              "  array([[0.00081751]], dtype=float32),\n",
              "  array([[0.00590492]], dtype=float32),\n",
              "  array([[0.02161899]], dtype=float32)],\n",
              " 98)"
            ]
          },
          "metadata": {},
          "execution_count": 68
        }
      ]
    },
    {
      "cell_type": "code",
      "metadata": {
        "id": "6EITjA7BKl5m"
      },
      "source": [
        "import random\n",
        "import json\n",
        "# from utils.io import write_json\n",
        "\n",
        "def write_json(filename, result):\n",
        "    with open(filename, 'w') as outfile:\n",
        "        json.dump(result, outfile)\n",
        "\n",
        "def read_json(filename):\n",
        "    with open(filename, 'r') as outfile:\n",
        "        data =  json.load(outfile)\n",
        "    return data\n",
        "\n",
        "def generate_sample_file(filename):\n",
        "    res = {}\n",
        "    for i in range(1,98):\n",
        "        test_set = str(i) + '.png'\n",
        "        if(predictions[i]>0.5):\n",
        "          res[test_set] = 1\n",
        "        else:\n",
        "          res[test_set] = 0\n",
        "\n",
        "    write_json(filename, res)\n",
        "\n",
        "if __name__ == '__main__':\n",
        "    generate_sample_file('./sample_result.json')"
      ],
      "execution_count": 74,
      "outputs": []
    },
    {
      "cell_type": "code",
      "metadata": {
        "id": "PXFbeXES3tLz",
        "colab": {
          "base_uri": "https://localhost:8080/"
        },
        "outputId": "e2321f4c-aea3-4b60-d156-9f3ecd1003ee"
      },
      "source": [
        "model_0.save(\"hindi_text_identification.h5\")"
      ],
      "execution_count": 75,
      "outputs": [
        {
          "output_type": "stream",
          "name": "stderr",
          "text": [
            "/usr/local/lib/python3.7/dist-packages/keras/utils/generic_utils.py:497: CustomMaskWarning: Custom mask layers require a config and must override get_config. When loading, the custom mask layer must be passed to the custom_objects argument.\n",
            "  category=CustomMaskWarning)\n"
          ]
        }
      ]
    },
    {
      "cell_type": "code",
      "metadata": {
        "id": "EJw0S2lNRKlZ"
      },
      "source": [
        ""
      ],
      "execution_count": null,
      "outputs": []
    }
  ]
}